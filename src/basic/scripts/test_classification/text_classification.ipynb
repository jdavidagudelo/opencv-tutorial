{
 "cells": [
  {
   "cell_type": "code",
   "execution_count": 1,
   "metadata": {},
   "outputs": [],
   "source": [
    "import tensorflow as tf\n",
    "from tensorflow import keras\n",
    "\n",
    "import numpy as np"
   ]
  },
  {
   "cell_type": "code",
   "execution_count": 2,
   "metadata": {},
   "outputs": [
    {
     "name": "stdout",
     "output_type": "stream",
     "text": [
      "Downloading data from https://storage.googleapis.com/tensorflow/tf-keras-datasets/imdb.npz\n",
      "17465344/17464789 [==============================] - 140s 8us/step\n"
     ]
    }
   ],
   "source": [
    "imdb = keras.datasets.imdb\n",
    "(train_data, train_labels), (test_data, test_labels) = imdb.load_data(num_words=10000)\n"
   ]
  },
  {
   "cell_type": "code",
   "execution_count": 12,
   "metadata": {},
   "outputs": [
    {
     "name": "stdout",
     "output_type": "stream",
     "text": [
      "Downloading data from https://storage.googleapis.com/tensorflow/tf-keras-datasets/imdb_word_index.json\n",
      "1646592/1641221 [==============================] - 13s 8us/step\n"
     ]
    }
   ],
   "source": [
    "# A dictionary mapping words to an integer index\n",
    "word_index = imdb.get_word_index()\n",
    "\n",
    "# The first indices are reserved\n",
    "word_index = {k:(v+3) for k,v in word_index.items()} \n",
    "word_index[\"<PAD>\"] = 0\n",
    "word_index[\"<START>\"] = 1\n",
    "word_index[\"<UNK>\"] = 2  # unknown\n",
    "word_index[\"<UNUSED>\"] = 3\n",
    "\n",
    "reverse_word_index = dict([(value, key) for (key, value) in word_index.items()])\n",
    "\n",
    "def decode_review(text):\n",
    "    return ' '.join([reverse_word_index.get(i, '?') for i in text])\n"
   ]
  },
  {
   "cell_type": "code",
   "execution_count": 13,
   "metadata": {},
   "outputs": [
    {
     "data": {
      "text/plain": [
       "\"<START> this film was just brilliant casting location scenery story direction everyone's really suited the part they played and you could just imagine being there robert <UNK> is an amazing actor and now the same being director <UNK> father came from the same scottish island as myself so i loved the fact there was a real connection with this film the witty remarks throughout the film were great it was just brilliant so much that i bought the film as soon as it was released for <UNK> and would recommend it to everyone to watch and the fly fishing was amazing really cried at the end it was so sad and you know what they say if you cry at a film it must have been good and this definitely was also <UNK> to the two little boy's that played the <UNK> of norman and paul they were just brilliant children are often left out of the <UNK> list i think because the stars that play them all grown up are such a big profile for the whole film but these children are amazing and should be praised for what they have done don't you think the whole story was so lovely because it was true and was someone's life after all that was shared with us all\""
      ]
     },
     "execution_count": 13,
     "metadata": {},
     "output_type": "execute_result"
    }
   ],
   "source": [
    "decode_review(train_data[0])\n"
   ]
  },
  {
   "cell_type": "code",
   "execution_count": 14,
   "metadata": {},
   "outputs": [],
   "source": [
    "train_data = keras.preprocessing.sequence.pad_sequences(train_data,\n",
    "                                                        value=word_index[\"<PAD>\"],\n",
    "                                                        padding='post',\n",
    "                                                        maxlen=256)\n",
    "\n",
    "test_data = keras.preprocessing.sequence.pad_sequences(test_data,\n",
    "                                                       value=word_index[\"<PAD>\"],\n",
    "                                                       padding='post',\n",
    "                                                       maxlen=256)\n"
   ]
  },
  {
   "cell_type": "code",
   "execution_count": 16,
   "metadata": {},
   "outputs": [
    {
     "data": {
      "text/plain": [
       "(25000, 256)"
      ]
     },
     "execution_count": 16,
     "metadata": {},
     "output_type": "execute_result"
    }
   ],
   "source": [
    "train_data.shape\n"
   ]
  },
  {
   "cell_type": "code",
   "execution_count": 17,
   "metadata": {},
   "outputs": [
    {
     "name": "stdout",
     "output_type": "stream",
     "text": [
      "_________________________________________________________________\n",
      "Layer (type)                 Output Shape              Param #   \n",
      "=================================================================\n",
      "embedding (Embedding)        (None, None, 16)          160000    \n",
      "_________________________________________________________________\n",
      "global_average_pooling1d (Gl (None, 16)                0         \n",
      "_________________________________________________________________\n",
      "dense (Dense)                (None, 16)                272       \n",
      "_________________________________________________________________\n",
      "dense_1 (Dense)              (None, 1)                 17        \n",
      "=================================================================\n",
      "Total params: 160,289\n",
      "Trainable params: 160,289\n",
      "Non-trainable params: 0\n",
      "_________________________________________________________________\n"
     ]
    }
   ],
   "source": [
    "# input shape is the vocabulary count used for the movie reviews (10,000 words)\n",
    "vocab_size = 10000\n",
    "\n",
    "model = keras.Sequential()\n",
    "model.add(keras.layers.Embedding(vocab_size, 16))\n",
    "model.add(keras.layers.GlobalAveragePooling1D())\n",
    "model.add(keras.layers.Dense(16, activation=tf.nn.relu))\n",
    "model.add(keras.layers.Dense(1, activation=tf.nn.sigmoid))\n",
    "\n",
    "model.summary()\n"
   ]
  },
  {
   "cell_type": "code",
   "execution_count": 18,
   "metadata": {},
   "outputs": [],
   "source": [
    "model.compile(optimizer=tf.train.AdamOptimizer(),\n",
    "              loss='binary_crossentropy',\n",
    "              metrics=['accuracy'])\n"
   ]
  },
  {
   "cell_type": "code",
   "execution_count": 19,
   "metadata": {},
   "outputs": [],
   "source": [
    "x_val = train_data[:10000]\n",
    "partial_x_train = train_data[10000:]\n",
    "\n",
    "y_val = train_labels[:10000]\n",
    "partial_y_train = train_labels[10000:]\n"
   ]
  },
  {
   "cell_type": "code",
   "execution_count": 20,
   "metadata": {},
   "outputs": [
    {
     "name": "stdout",
     "output_type": "stream",
     "text": [
      "Train on 15000 samples, validate on 10000 samples\n",
      "Epoch 1/40\n",
      "15000/15000 [==============================] - 1s 100us/step - loss: 0.7217 - acc: 0.4965 - val_loss: 0.6994 - val_acc: 0.5053\n",
      "Epoch 2/40\n",
      "15000/15000 [==============================] - 1s 98us/step - loss: 0.6960 - acc: 0.4965 - val_loss: 0.6923 - val_acc: 0.5053\n",
      "Epoch 3/40\n",
      "15000/15000 [==============================] - 1s 92us/step - loss: 0.6918 - acc: 0.5420 - val_loss: 0.6917 - val_acc: 0.5201\n",
      "Epoch 4/40\n",
      "15000/15000 [==============================] - 1s 91us/step - loss: 0.6908 - acc: 0.5923 - val_loss: 0.6901 - val_acc: 0.5938\n",
      "Epoch 5/40\n",
      "15000/15000 [==============================] - 1s 92us/step - loss: 0.6888 - acc: 0.5972 - val_loss: 0.6884 - val_acc: 0.5887\n",
      "Epoch 6/40\n",
      "15000/15000 [==============================] - 1s 92us/step - loss: 0.6863 - acc: 0.6170 - val_loss: 0.6854 - val_acc: 0.6312\n",
      "Epoch 7/40\n",
      "15000/15000 [==============================] - 1s 92us/step - loss: 0.6829 - acc: 0.6849 - val_loss: 0.6821 - val_acc: 0.6742\n",
      "Epoch 8/40\n",
      "15000/15000 [==============================] - 1s 92us/step - loss: 0.6785 - acc: 0.7382 - val_loss: 0.6774 - val_acc: 0.7270\n",
      "Epoch 9/40\n",
      "15000/15000 [==============================] - 1s 92us/step - loss: 0.6728 - acc: 0.7704 - val_loss: 0.6716 - val_acc: 0.7501\n",
      "Epoch 10/40\n",
      "15000/15000 [==============================] - 1s 92us/step - loss: 0.6646 - acc: 0.7705 - val_loss: 0.6608 - val_acc: 0.7056\n",
      "Epoch 11/40\n",
      "15000/15000 [==============================] - 1s 98us/step - loss: 0.6513 - acc: 0.7502 - val_loss: 0.6473 - val_acc: 0.7611\n",
      "Epoch 12/40\n",
      "15000/15000 [==============================] - 2s 102us/step - loss: 0.6339 - acc: 0.7888 - val_loss: 0.6301 - val_acc: 0.7725\n",
      "Epoch 13/40\n",
      "15000/15000 [==============================] - 1s 93us/step - loss: 0.6128 - acc: 0.7956 - val_loss: 0.6108 - val_acc: 0.7744\n",
      "Epoch 14/40\n",
      "15000/15000 [==============================] - 1s 91us/step - loss: 0.5888 - acc: 0.8039 - val_loss: 0.5870 - val_acc: 0.7878\n",
      "Epoch 15/40\n",
      "15000/15000 [==============================] - 1s 93us/step - loss: 0.5617 - acc: 0.8119 - val_loss: 0.5612 - val_acc: 0.7981\n",
      "Epoch 16/40\n",
      "15000/15000 [==============================] - 1s 91us/step - loss: 0.5335 - acc: 0.8198 - val_loss: 0.5358 - val_acc: 0.8013\n",
      "Epoch 17/40\n",
      "15000/15000 [==============================] - 1s 84us/step - loss: 0.5043 - acc: 0.8322 - val_loss: 0.5102 - val_acc: 0.8177\n",
      "Epoch 18/40\n",
      "15000/15000 [==============================] - 1s 89us/step - loss: 0.4759 - acc: 0.8428 - val_loss: 0.4852 - val_acc: 0.8247\n",
      "Epoch 19/40\n",
      "15000/15000 [==============================] - 1s 89us/step - loss: 0.4487 - acc: 0.8506 - val_loss: 0.4618 - val_acc: 0.8328\n",
      "Epoch 20/40\n",
      "15000/15000 [==============================] - 1s 92us/step - loss: 0.4235 - acc: 0.8589 - val_loss: 0.4405 - val_acc: 0.8403\n",
      "Epoch 21/40\n",
      "15000/15000 [==============================] - 1s 94us/step - loss: 0.3996 - acc: 0.8681 - val_loss: 0.4207 - val_acc: 0.8475\n",
      "Epoch 22/40\n",
      "15000/15000 [==============================] - 1s 93us/step - loss: 0.3783 - acc: 0.8742 - val_loss: 0.4034 - val_acc: 0.8523\n",
      "Epoch 23/40\n",
      "15000/15000 [==============================] - 1s 94us/step - loss: 0.3594 - acc: 0.8799 - val_loss: 0.3884 - val_acc: 0.8554\n",
      "Epoch 24/40\n",
      "15000/15000 [==============================] - 1s 89us/step - loss: 0.3420 - acc: 0.8849 - val_loss: 0.3750 - val_acc: 0.8607\n",
      "Epoch 25/40\n",
      "15000/15000 [==============================] - 1s 90us/step - loss: 0.3268 - acc: 0.8901 - val_loss: 0.3635 - val_acc: 0.8643\n",
      "Epoch 26/40\n",
      "15000/15000 [==============================] - 1s 89us/step - loss: 0.3131 - acc: 0.8924 - val_loss: 0.3536 - val_acc: 0.8658\n",
      "Epoch 27/40\n",
      "15000/15000 [==============================] - 1s 89us/step - loss: 0.3011 - acc: 0.8948 - val_loss: 0.3449 - val_acc: 0.8689\n",
      "Epoch 28/40\n",
      "15000/15000 [==============================] - 1s 88us/step - loss: 0.2898 - acc: 0.8981 - val_loss: 0.3374 - val_acc: 0.8696\n",
      "Epoch 29/40\n",
      "15000/15000 [==============================] - 1s 90us/step - loss: 0.2798 - acc: 0.9008 - val_loss: 0.3311 - val_acc: 0.8722\n",
      "Epoch 30/40\n",
      "15000/15000 [==============================] - 1s 89us/step - loss: 0.2712 - acc: 0.9021 - val_loss: 0.3254 - val_acc: 0.8735\n",
      "Epoch 31/40\n",
      "15000/15000 [==============================] - 1s 93us/step - loss: 0.2621 - acc: 0.9068 - val_loss: 0.3204 - val_acc: 0.8759\n",
      "Epoch 32/40\n",
      "15000/15000 [==============================] - 1s 93us/step - loss: 0.2547 - acc: 0.9087 - val_loss: 0.3161 - val_acc: 0.8764\n",
      "Epoch 33/40\n",
      "15000/15000 [==============================] - 1s 96us/step - loss: 0.2470 - acc: 0.9117 - val_loss: 0.3125 - val_acc: 0.8769\n",
      "Epoch 34/40\n",
      "15000/15000 [==============================] - 1s 97us/step - loss: 0.2401 - acc: 0.9139 - val_loss: 0.3088 - val_acc: 0.8789\n",
      "Epoch 35/40\n",
      "15000/15000 [==============================] - 1s 94us/step - loss: 0.2339 - acc: 0.9146 - val_loss: 0.3057 - val_acc: 0.8800\n",
      "Epoch 36/40\n",
      "15000/15000 [==============================] - 1s 91us/step - loss: 0.2273 - acc: 0.9185 - val_loss: 0.3032 - val_acc: 0.8802\n",
      "Epoch 37/40\n",
      "15000/15000 [==============================] - 1s 92us/step - loss: 0.2216 - acc: 0.9207 - val_loss: 0.3011 - val_acc: 0.8807\n",
      "Epoch 38/40\n",
      "15000/15000 [==============================] - 1s 98us/step - loss: 0.2161 - acc: 0.9233 - val_loss: 0.2982 - val_acc: 0.8815\n",
      "Epoch 39/40\n",
      "15000/15000 [==============================] - 2s 105us/step - loss: 0.2105 - acc: 0.9249 - val_loss: 0.2966 - val_acc: 0.8830\n",
      "Epoch 40/40\n",
      "15000/15000 [==============================] - 1s 95us/step - loss: 0.2053 - acc: 0.9279 - val_loss: 0.2945 - val_acc: 0.8832\n"
     ]
    }
   ],
   "source": [
    "history = model.fit(partial_x_train,\n",
    "                    partial_y_train,\n",
    "                    epochs=40,\n",
    "                    batch_size=512,\n",
    "                    validation_data=(x_val, y_val),\n",
    "                    verbose=1)\n"
   ]
  },
  {
   "cell_type": "code",
   "execution_count": 21,
   "metadata": {},
   "outputs": [
    {
     "name": "stdout",
     "output_type": "stream",
     "text": [
      "25000/25000 [==============================] - 1s 24us/step\n",
      "[0.30916550839424134, 0.87316]\n"
     ]
    }
   ],
   "source": [
    "results = model.evaluate(test_data, test_labels)\n",
    "print(results)\n"
   ]
  },
  {
   "cell_type": "code",
   "execution_count": 22,
   "metadata": {},
   "outputs": [
    {
     "data": {
      "text/plain": [
       "dict_keys(['val_loss', 'val_acc', 'loss', 'acc'])"
      ]
     },
     "execution_count": 22,
     "metadata": {},
     "output_type": "execute_result"
    }
   ],
   "source": [
    "history_dict = history.history\n",
    "history_dict.keys()\n"
   ]
  },
  {
   "cell_type": "code",
   "execution_count": 23,
   "metadata": {},
   "outputs": [
    {
     "data": {
      "text/plain": [
       "<Figure size 640x480 with 1 Axes>"
      ]
     },
     "metadata": {},
     "output_type": "display_data"
    }
   ],
   "source": [
    "import matplotlib.pyplot as plt\n",
    "\n",
    "acc = history.history['acc']\n",
    "val_acc = history.history['val_acc']\n",
    "loss = history.history['loss']\n",
    "val_loss = history.history['val_loss']\n",
    "\n",
    "epochs = range(1, len(acc) + 1)\n",
    "\n",
    "# \"bo\" is for \"blue dot\"\n",
    "plt.plot(epochs, loss, 'bo', label='Training loss')\n",
    "# b is for \"solid blue line\"\n",
    "plt.plot(epochs, val_loss, 'b', label='Validation loss')\n",
    "plt.title('Training and validation loss')\n",
    "plt.xlabel('Epochs')\n",
    "plt.ylabel('Loss')\n",
    "plt.legend()\n",
    "\n",
    "plt.show()\n",
    "\n"
   ]
  },
  {
   "cell_type": "code",
   "execution_count": 24,
   "metadata": {},
   "outputs": [
    {
     "data": {
      "image/png": "[encoded data removed]",
      "text/plain": [
       "<Figure size 432x288 with 1 Axes>"
      ]
     },
     "metadata": {
      "needs_background": "light"
     },
     "output_type": "display_data"
    }
   ],
   "source": [
    "plt.clf()   # clear figure\n",
    "acc_values = history_dict['acc']\n",
    "val_acc_values = history_dict['val_acc']\n",
    "\n",
    "plt.plot(epochs, acc, 'bo', label='Training acc')\n",
    "plt.plot(epochs, val_acc, 'b', label='Validation acc')\n",
    "plt.title('Training and validation accuracy')\n",
    "plt.xlabel('Epochs')\n",
    "plt.ylabel('Accuracy')\n",
    "plt.legend()\n",
    "\n",
    "plt.show()\n"
   ]
  },
  {
   "cell_type": "code",
   "execution_count": null,
   "metadata": {},
   "outputs": [],
   "source": []
  }
 ],
 "metadata": {
  "kernelspec": {
   "display_name": "Python 3",
   "language": "python",
   "name": "python3"
  },
  "language_info": {
   "codemirror_mode": {
    "name": "ipython",
    "version": 3
   },
   "file_extension": ".py",
   "mimetype": "text/x-python",
   "name": "python",
   "nbconvert_exporter": "python",
   "pygments_lexer": "ipython3",
   "version": "3.6.6"
  }
 },
 "nbformat": 4,
 "nbformat_minor": 2
}
