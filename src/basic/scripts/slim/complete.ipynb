{
 "cells": [
  {
   "cell_type": "code",
   "execution_count": 1,
   "metadata": {},
   "outputs": [],
   "source": [
    "%run __init__.py"
   ]
  },
  {
   "cell_type": "code",
   "execution_count": 2,
   "metadata": {},
   "outputs": [],
   "source": [
    "from basic.scripts.slim import dataset_utils"
   ]
  },
  {
   "cell_type": "code",
   "execution_count": 3,
   "metadata": {},
   "outputs": [
    {
     "name": "stdout",
     "output_type": "stream",
     "text": [
      ">> Converting image 9800/980000"
     ]
    }
   ],
   "source": [
    "training_output = '/home/jdavidagudelo/Documents/data_sets/minist/tf_records/training.tfrecords'\n",
    "testing_output = '/home/jdavidagudelo/Documents/data_sets/minist/tf_records/testing.tfrecords'\n",
    "training_filename = '/home/jdavidagudelo/Documents/data_sets/minist/batches/train_batch'\n",
    "testing_filename = '/home/jdavidagudelo/Documents/data_sets/minist/batches/test_batch'\n",
    "width = 28\n",
    "height = 28\n",
    "channels = 1\n",
    "dataset_utils.save_tf_records(training_output, testing_output, training_filename, testing_filename, width, height, channels)"
   ]
  },
  {
   "cell_type": "code",
   "execution_count": 4,
   "metadata": {},
   "outputs": [],
   "source": [
    "x = dataset_utils.get_split('train', 39200, 10, '/home/jdavidagudelo/Documents/data_sets/minist/tf_records/', file_pattern=None, reader=None)"
   ]
  },
  {
   "cell_type": "code",
   "execution_count": 5,
   "metadata": {},
   "outputs": [
    {
     "data": {
      "text/plain": [
       "<tensorflow.contrib.slim.python.slim.data.dataset.Dataset at 0x7ff84e645400>"
      ]
     },
     "execution_count": 5,
     "metadata": {},
     "output_type": "execute_result"
    }
   ],
   "source": [
    "x"
   ]
  },
  {
   "cell_type": "code",
   "execution_count": null,
   "metadata": {},
   "outputs": [],
   "source": []
  }
 ],
 "metadata": {
  "kernelspec": {
   "display_name": "Python 3",
   "language": "python",
   "name": "python3"
  },
  "language_info": {
   "codemirror_mode": {
    "name": "ipython",
    "version": 3
   },
   "file_extension": ".py",
   "mimetype": "text/x-python",
   "name": "python",
   "nbconvert_exporter": "python",
   "pygments_lexer": "ipython3",
   "version": "3.6.6"
  }
 },
 "nbformat": 4,
 "nbformat_minor": 2
}
