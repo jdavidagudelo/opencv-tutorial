{
 "cells": [
  {
   "cell_type": "code",
   "execution_count": 1,
   "metadata": {},
   "outputs": [],
   "source": [
    "%run __init__.py"
   ]
  },
  {
   "cell_type": "markdown",
   "metadata": {},
   "source": [
    "# Convert images folder to pickle dictionary"
   ]
  },
  {
   "cell_type": "code",
   "execution_count": 2,
   "metadata": {},
   "outputs": [],
   "source": [
    "from basic.scripts.cifar10.encode_images import generate_train_data\n",
    "data_dir = '/home/jdavidagudelo/Documents/data_sets/minist/Images/train/'\n",
    "data_csv = '/home/jdavidagudelo/Documents/data_sets/minist/train.csv'\n",
    "batches_count = 5\n",
    "output_dir = '/home/jdavidagudelo/Documents/data_sets/minist/batches/'\n",
    "generate_train_data(data_dir, data_csv, output_dir)"
   ]
  },
  {
   "cell_type": "markdown",
   "metadata": {},
   "source": [
    "# Save pickled data to tensorflow records"
   ]
  },
  {
   "cell_type": "code",
   "execution_count": 3,
   "metadata": {},
   "outputs": [
    {
     "name": "stdout",
     "output_type": "stream",
     "text": [
      "Generating /home/jdavidagudelo/Documents/data_sets/minist/train.tfrecords\n",
      "Generating /home/jdavidagudelo/Documents/data_sets/minist/validation.tfrecords\n",
      "Generating /home/jdavidagudelo/Documents/data_sets/minist/eval.tfrecords\n",
      "Done!\n"
     ]
    }
   ],
   "source": [
    "from basic.scripts.cifar10.utils import store_tfrecords\n",
    "input_dir = '/home/jdavidagudelo/Documents/data_sets/minist/'\n",
    "batches_folder = 'batches'\n",
    "train_files = ['train_batch']\n",
    "validation_files = ['test_batch']\n",
    "eval_files = ['test_batch']\n",
    "output_dir = '/home/jdavidagudelo/Documents/data_sets/minist/'\n",
    "\n",
    "store_tfrecords(input_dir, batches_folder, output_dir, train_files=train_files, \n",
    "                validation_files=validation_files, eval_files=eval_files)"
   ]
  },
  {
   "cell_type": "markdown",
   "metadata": {},
   "source": [
    "# Run RNN model"
   ]
  },
  {
   "cell_type": "code",
   "execution_count": null,
   "metadata": {},
   "outputs": [],
   "source": [
    "from basic.scripts.cifar10.main_function import main_new\n",
    "data_dir = '/home/jdavidagudelo/Documents/data_sets/minist/'\n",
    "job_dir = '/home/jdavidagudelo/Documents/data_sets/minist/model/'\n",
    "variable_strategy = 'CPU'\n",
    "num_gpus = 0\n",
    "num_layers = 44\n",
    "train_steps = 10000\n",
    "train_batch_size = 128\n",
    "eval_batch_size = 100\n",
    "momentum = 0.9\n",
    "weight_decay = 2e-4\n",
    "learning_rate = 0.1\n",
    "use_distortion_for_training = True\n",
    "sync = False\n",
    "num_intra_threads = 0\n",
    "num_inter_threads = 0\n",
    "data_format = None\n",
    "log_device_placement = False\n",
    "batch_norm_decay = 0.997\n",
    "batch_norm_epsilon = 1e-5\n",
    "kwargs = {\n",
    "    'data_dir': data_dir,\n",
    "    'job_dir': job_dir, 'variable_strategy': variable_strategy, 'num_gpus': num_gpus,\n",
    "    'num_layers': num_layers, 'train_steps': train_steps, 'train_batch_size': train_batch_size,\n",
    "    'eval_batch_size': eval_batch_size, 'momentum': momentum, 'weight_decay': weight_decay,\n",
    "    'learning_rate': learning_rate, 'use_distortion_for_training': use_distortion_for_training,\n",
    "    'sync': sync, 'num_intra_threads': num_intra_threads, 'num_inter_threads': num_inter_threads,\n",
    "    'data_format': data_format, 'log_device_placement': log_device_placement, \n",
    "    'batch_norm_decay': batch_norm_decay, 'batch_norm_epsilon': batch_norm_epsilon\n",
    "}\n",
    "main_new(**kwargs)"
   ]
  },
  {
   "cell_type": "code",
   "execution_count": null,
   "metadata": {},
   "outputs": [],
   "source": []
  }
 ],
 "metadata": {
  "kernelspec": {
   "display_name": "Python 3",
   "language": "python",
   "name": "python3"
  },
  "language_info": {
   "codemirror_mode": {
    "name": "ipython",
    "version": 3
   },
   "file_extension": ".py",
   "mimetype": "text/x-python",
   "name": "python",
   "nbconvert_exporter": "python",
   "pygments_lexer": "ipython3",
   "version": "3.6.6"
  }
 },
 "nbformat": 4,
 "nbformat_minor": 2
}
