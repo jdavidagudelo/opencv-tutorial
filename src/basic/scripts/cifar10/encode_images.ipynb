{
 "cells": [
  {
   "cell_type": "code",
   "execution_count": 1,
   "metadata": {},
   "outputs": [],
   "source": [
    "%run __init__.py\n",
    "from basic.scripts.cifar10.encode_images import generate_train_data\n",
    "data_dir = '/home/jdavidagudelo/Documents/data_sets/minist/Images/train/'\n",
    "data_csv = '/home/jdavidagudelo/Documents/data_sets/minist/train.csv'\n",
    "batches_count = 5\n",
    "output_dir = '/home/jdavidagudelo/Documents/data_sets/minist/batches/'\n",
    "# encode_images(data_dir, data_csv, batches_count, output_dir)\n",
    "generate_train_data(data_dir, data_csv, output_dir)"
   ]
  },
  {
   "cell_type": "code",
   "execution_count": 3,
   "metadata": {},
   "outputs": [],
   "source": [
    "%run __init__.py\n",
    "from basic.scripts.cifar10.encode_images import encode_images\n",
    "data_dir = '/home/jdavidagudelo/Documents/data_sets/minist/Images/test/'\n",
    "data_csv = '/home/jdavidagudelo/Documents/data_sets/minist/Test_fCbTej3.csv'\n",
    "batches_count = 5\n",
    "output_dir = '/home/jdavidagudelo/Documents/data_sets/minist/batches/predict/'\n",
    "encode_images(data_dir, data_csv, batches_count, output_dir, data_name='test')"
   ]
  },
  {
   "cell_type": "code",
   "execution_count": null,
   "metadata": {},
   "outputs": [],
   "source": []
  }
 ],
 "metadata": {
  "kernelspec": {
   "display_name": "Python 3",
   "language": "python",
   "name": "python3"
  },
  "language_info": {
   "codemirror_mode": {
    "name": "ipython",
    "version": 3
   },
   "file_extension": ".py",
   "mimetype": "text/x-python",
   "name": "python",
   "nbconvert_exporter": "python",
   "pygments_lexer": "ipython3",
   "version": "3.6.6"
  }
 },
 "nbformat": 4,
 "nbformat_minor": 2
}
