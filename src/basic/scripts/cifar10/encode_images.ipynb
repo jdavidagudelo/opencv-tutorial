{
 "cells": [
  {
   "cell_type": "code",
   "execution_count": 2,
   "metadata": {},
   "outputs": [],
   "source": [
    "import cv2\n",
    "import pandas as pd\n"
   ]
  },
  {
   "cell_type": "code",
   "execution_count": 33,
   "metadata": {},
   "outputs": [],
   "source": [
    "train = pd.read_csv('/home/jdavidagudelo/Documents/data_sets/minist/train.csv')\n",
    "test = pd.read_csv('/home/jdavidagudelo/Documents/data_sets/minist/Test_fCbTej3.csv')"
   ]
  },
  {
   "cell_type": "code",
   "execution_count": 39,
   "metadata": {},
   "outputs": [],
   "source": [
    "import pickle\n",
    "import numpy"
   ]
  },
  {
   "cell_type": "code",
   "execution_count": 13,
   "metadata": {},
   "outputs": [],
   "source": [
    "data = numpy.split(train, 5)"
   ]
  },
  {
   "cell_type": "code",
   "execution_count": 18,
   "metadata": {},
   "outputs": [],
   "source": [
    "img = cv2.imread('/home/jdavidagudelo/Documents/data_sets/minist/Images/train/0.png', cv2.IMREAD_GRAYSCALE)"
   ]
  },
  {
   "cell_type": "code",
   "execution_count": 21,
   "metadata": {},
   "outputs": [],
   "source": [
    "data = img.reshape(img.shape[0] * img.shape[1])"
   ]
  },
  {
   "cell_type": "code",
   "execution_count": 23,
   "metadata": {},
   "outputs": [
    {
     "data": {
      "text/plain": [
       "(784,)"
      ]
     },
     "execution_count": 23,
     "metadata": {},
     "output_type": "execute_result"
    }
   ],
   "source": []
  },
  {
   "cell_type": "code",
   "execution_count": null,
   "metadata": {},
   "outputs": [],
   "source": []
  },
  {
   "cell_type": "code",
   "execution_count": 42,
   "metadata": {},
   "outputs": [],
   "source": [
    "import os\n",
    "\n",
    "train_data_dir = '/home/jdavidagudelo/Documents/data_sets/minist/Images/train/'\n",
    "test_data_dir = '/home/jdavidagudelo/Documents/data_sets/minist/Images/test/'\n",
    "batches_output_dir = '/home/jdavidagudelo/Documents/data_sets/minist/batches/'\n",
    "train_split = numpy.split(train, 5)\n",
    "test_split = numpy.split(test, 5)\n",
    "\n",
    "for i, current_data in enumerate(train_split):\n",
    "    batch_label = 'train batch {0} of {1}'.format(i, len(train_split))\n",
    "    labels = current_data.label.tolist()\n",
    "    filenames = current_data.filename.tolist()\n",
    "    data = []\n",
    "    for filename in filenames:\n",
    "        img_path = os.path.join(train_data_dir, filename)\n",
    "        current_data = cv2.imread(img_path, cv2.IMREAD_GRAYSCALE)\n",
    "        current_data = current_data.reshape(current_data.shape[0] * current_data.shape[1])\n",
    "        data.append(current_data)\n",
    "    output_file_name = 'train_batch_{0}'.format(i)\n",
    "    batch_path = os.path.join(batches_output_dir, output_file_name)\n",
    "    batch_data = {'batch_label': batch_label, 'labels': labels, 'filenames': filenames, 'data': numpy.array(data)}\n",
    "    with open(batch_path, \"wb\") as f:\n",
    "        pickle.dump(batch_data, f)\n",
    "    "
   ]
  },
  {
   "cell_type": "code",
   "execution_count": 25,
   "metadata": {},
   "outputs": [],
   "source": [
    "import numpy\n",
    "x = numpy.array([1, 2, 3, 4])"
   ]
  },
  {
   "cell_type": "code",
   "execution_count": 27,
   "metadata": {},
   "outputs": [
    {
     "ename": "AttributeError",
     "evalue": "'numpy.ndarray' object has no attribute 'x'",
     "traceback": [
      "\u001b[0;31m---------------------------------------------------------------------------\u001b[0m",
      "\u001b[0;31mAttributeError\u001b[0m                            Traceback (most recent call last)",
      "\u001b[0;32m<ipython-input-27-da9cd3b69465>\u001b[0m in \u001b[0;36m<module>\u001b[0;34m()\u001b[0m\n\u001b[0;32m----> 1\u001b[0;31m \u001b[0mx\u001b[0m\u001b[0;34m.\u001b[0m\u001b[0mx\u001b[0m\u001b[0;34m\u001b[0m\u001b[0m\n\u001b[0m",
      "\u001b[0;31mAttributeError\u001b[0m: 'numpy.ndarray' object has no attribute 'x'"
     ],
     "output_type": "error"
    }
   ],
   "source": [
    "current_data.la\n"
   ]
  },
  {
   "cell_type": "code",
   "execution_count": null,
   "metadata": {},
   "outputs": [],
   "source": []
  }
 ],
 "metadata": {
  "kernelspec": {
   "display_name": "Python 3",
   "language": "python",
   "name": "python3"
  },
  "language_info": {
   "codemirror_mode": {
    "name": "ipython",
    "version": 3
   },
   "file_extension": ".py",
   "mimetype": "text/x-python",
   "name": "python",
   "nbconvert_exporter": "python",
   "pygments_lexer": "ipython3",
   "version": "3.6.6"
  }
 },
 "nbformat": 4,
 "nbformat_minor": 2
}
