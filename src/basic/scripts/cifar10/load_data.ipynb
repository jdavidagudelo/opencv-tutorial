{
 "cells": [
  {
   "cell_type": "code",
   "execution_count": 5,
   "metadata": {},
   "outputs": [],
   "source": [
    "%run __init__.py\n",
    "from basic.scripts.cifar10.utils import store_tfrecords\n"
   ]
  },
  {
   "cell_type": "code",
   "execution_count": 6,
   "metadata": {},
   "outputs": [
    {
     "name": "stdout",
     "output_type": "stream",
     "text": [
      "Generating /home/jdavidagudelo/Documents/data_sets/minist/train.tfrecords\n",
      "Generating /home/jdavidagudelo/Documents/data_sets/minist/validation.tfrecords\n",
      "Generating /home/jdavidagudelo/Documents/data_sets/minist/eval.tfrecords\n",
      "Done!\n"
     ]
    }
   ],
   "source": [
    "input_dir = '/home/jdavidagudelo/Documents/data_sets/minist/'\n",
    "batches_folder = 'batches'\n",
    "train_files = ['train_batch']\n",
    "validation_files = ['test_batch']\n",
    "eval_files = ['test_batch']\n",
    "output_dir = '/home/jdavidagudelo/Documents/data_sets/minist/'\n",
    "\n",
    "store_tfrecords(input_dir, batches_folder, output_dir, train_files=train_files, \n",
    "                validation_files=validation_files, eval_files=eval_files)"
   ]
  },
  {
   "cell_type": "code",
   "execution_count": 2,
   "metadata": {},
   "outputs": [
    {
     "name": "stdout",
     "output_type": "stream",
     "text": [
      "Generating /home/jdavidagudelo/Documents/data_sets/minist/predict/train.tfrecords\n",
      "Generating /home/jdavidagudelo/Documents/data_sets/minist/predict/validation.tfrecords\n",
      "Generating /home/jdavidagudelo/Documents/data_sets/minist/predict/eval.tfrecords\n",
      "Done!\n"
     ]
    }
   ],
   "source": [
    "input_dir = '/home/jdavidagudelo/Documents/data_sets/minist/batches/'\n",
    "batches_folder = 'predict'\n",
    "train_files = ['test_batch_0', 'test_batch_1', 'test_batch_2', 'test_batch_3', 'test_batch_4']\n",
    "validation_files = ['test_batch_0', 'test_batch_1', 'test_batch_2', 'test_batch_3', 'test_batch_4']\n",
    "eval_files = ['test_batch_0', 'test_batch_1', 'test_batch_2', 'test_batch_3', 'test_batch_4']\n",
    "output_dir = '/home/jdavidagudelo/Documents/data_sets/minist/predict/'\n",
    "\n",
    "store_tfrecords(input_dir, batches_folder, output_dir, train_files=train_files, \n",
    "                validation_files=validation_files, eval_files=eval_files)"
   ]
  },
  {
   "cell_type": "code",
   "execution_count": null,
   "metadata": {},
   "outputs": [],
   "source": []
  }
 ],
 "metadata": {
  "kernelspec": {
   "display_name": "Python 3",
   "language": "python",
   "name": "python3"
  },
  "language_info": {
   "codemirror_mode": {
    "name": "ipython",
    "version": 3
   },
   "file_extension": ".py",
   "mimetype": "text/x-python",
   "name": "python",
   "nbconvert_exporter": "python",
   "pygments_lexer": "ipython3",
   "version": "3.6.6"
  }
 },
 "nbformat": 4,
 "nbformat_minor": 2
}
